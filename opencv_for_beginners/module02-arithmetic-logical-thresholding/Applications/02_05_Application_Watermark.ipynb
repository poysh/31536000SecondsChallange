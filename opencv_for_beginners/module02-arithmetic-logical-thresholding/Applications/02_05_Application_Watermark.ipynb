{
 "cells": [
  {
   "cell_type": "markdown",
   "metadata": {
    "id": "cqgsie7nLO-T"
   },
   "source": [
    "<h1 style=\"font-size:30px;\">Application: Watermarks</h1>\n",
    "\n",
    "In this notebook, you are going to learn how to add watermarks to images. A watermark is typically a semi-transparent logo or message added to an image to convey some additional information. We will demonstrate how to create watermarks by first showing how to add a transparent logo to an image. Then we will take it a step further and show you how to blend a transparent logo with an image for a true \"watermark\" effect.\n",
    "\n",
    "We will be working with the following logo and image to create watermarks.\n",
    "![feature_image.jpg](https://opencv.org/wp-content/uploads/2021/08/c0-m2-watermark-feature-image.jpg)"
   ]
  },
  {
   "cell_type": "code",
   "execution_count": null,
   "metadata": {
    "id": "LWF66K7jLO-Y"
   },
   "outputs": [],
   "source": [
    "import cv2\n",
    "import matplotlib.pyplot as plt\n",
    "import numpy as np\n",
    "plt.rcParams['image.cmap'] = 'gray'\n",
    "plt.rcParams['figure.figsize'] = (15, 15)\n",
    "\n",
    "if 'google.colab' in str(get_ipython()):\n",
    "    print(\"Downloading Code to Colab Environment\")\n",
    "    !wget https://www.dropbox.com/sh/f8ae3j0nbrflife/AAAy-WwcREtWOGgoEbFLDPANa?dl=1 -O module-code.zip -q --show-progress\n",
    "    !unzip -qq module-code.zip\n",
    "else:\n",
    "    pass\n"
   ]
  },
  {
   "cell_type": "markdown",
   "metadata": {
    "id": "omvtkoyNLO-Z"
   },
   "source": [
    "# 1. Adding a Transparent (PNG) Logo to an Image\n",
    "\n",
    "This method works well with logos with both white and black backgrounds. Except this does not provide transparency effect. Here, we are going to learn how to use the `bitwise_and()` and `bitwise_not()` functions to carry out the operation.\n",
    "\n",
    "\n",
    "### <font style=\"color:rgb(50,120,230)\">Goal</font>\n",
    "\n",
    "![watermarked_method_1](https://opencv.org/wp-content/uploads/2021/08/c0-m2-watermarked-method-1.jpg)\n",
    "                                  "
   ]
  },
  {
   "cell_type": "markdown",
   "metadata": {
    "id": "ZblDpcRBLO-a"
   },
   "source": [
    "### <font style=\"color:rgb(50,120,230)\">Workflow</font>\n",
    "1. Adjust the size of the logo if required\n",
    "2. Separate the color and alpha channels from the logo\n",
    "3. Determine the region of interest (ROI) in the image for logo placement\n",
    "4. Use logical operations to create ROI and logo masks\n",
    "5. Use logical operations to combine the ROIs into a watermarked patch\n",
    "6. Insert the watermark patch in the image"
   ]
  },
  {
   "cell_type": "markdown",
   "metadata": {
    "id": "QQ17SdxzLO-a"
   },
   "source": [
    "## 1.1 Read and Display the Images"
   ]
  },
  {
   "cell_type": "code",
   "execution_count": null,
   "metadata": {
    "colab": {
     "base_uri": "https://localhost:8080/",
     "height": 451
    },
    "executionInfo": {
     "elapsed": 2697,
     "status": "ok",
     "timestamp": 1634137498553,
     "user": {
      "displayName": "Kukil Kashyap",
      "photoUrl": "https://lh3.googleusercontent.com/a/default-user=s64",
      "userId": "02345555180714266540"
     },
     "user_tz": -330
    },
    "id": "vyPM2mlzLO-a",
    "outputId": "aab0d79d-b717-49c0-9d6f-3c9e34e410f4"
   },
   "outputs": [],
   "source": [
    "# Read the image and logo.\n",
    "img = cv2.imread('leaves.jpg', cv2.IMREAD_UNCHANGED)\n",
    "logo = cv2.imread('opencv_logo.png', cv2.IMREAD_UNCHANGED)\n",
    "\n",
    "# Check the dimensions, noticing the channel counts.\n",
    "print('Image size : ', img.shape)\n",
    "print('Logo size : ', logo.shape)\n",
    "\n",
    "# For ease of display below, convert to RGBA.\n",
    "logo_rgba = cv2.cvtColor(logo, cv2.COLOR_BGRA2RGBA)\n",
    "\n",
    "# Display the images.\n",
    "plt.figure(figsize=(15,10))\n",
    "plt.subplot(121); plt.imshow(img[:, :, ::-1]); plt.title('Image');\n",
    "plt.subplot(122); plt.imshow(logo_rgba);       plt.title('TransLogo');"
   ]
  },
  {
   "cell_type": "markdown",
   "metadata": {
    "id": "saN1pTmHLO-b"
   },
   "source": [
    "\n",
    "## 1.2  Reduce the Size of the OpenCV Logo\n",
    "\n",
    "### <font color=\"green\">OpenCV Documentation</font>\n",
    "\n",
    "[**`resize()`**](https://docs.opencv.org/4.5.2/da/d54/group__imgproc__transform.html#ga47a974309e9102f5f08231edc7e7529d)"
   ]
  },
  {
   "cell_type": "code",
   "execution_count": null,
   "metadata": {
    "colab": {
     "base_uri": "https://localhost:8080/"
    },
    "executionInfo": {
     "elapsed": 13,
     "status": "ok",
     "timestamp": 1634137498554,
     "user": {
      "displayName": "Kukil Kashyap",
      "photoUrl": "https://lh3.googleusercontent.com/a/default-user=s64",
      "userId": "02345555180714266540"
     },
     "user_tz": -330
    },
    "id": "HgyHuUzqLO-c",
    "outputId": "1a2edaf1-605f-4466-e23e-9d49e9c392da"
   },
   "outputs": [],
   "source": [
    "# Resize the logo to 10% of its original dimensions.\n",
    "logo = cv2.resize(logo, None, fx = 0.1, fy = 0.1, interpolation = cv2.INTER_LINEAR)\n",
    "\n",
    "# Retrieve the image and logo shapes.\n",
    "img_h, img_w, _ = img.shape\n",
    "logo_h, logo_w, _ = logo.shape\n",
    "\n",
    "# Print the shape of the resized logo.\n",
    "print(logo.shape)"
   ]
  },
  {
   "cell_type": "markdown",
   "metadata": {
    "id": "14GAwD9PLO-d"
   },
   "source": [
    "## 1.3 Separate the Color and Alpha Channels"
   ]
  },
  {
   "cell_type": "code",
   "execution_count": null,
   "metadata": {
    "colab": {
     "base_uri": "https://localhost:8080/",
     "height": 719
    },
    "executionInfo": {
     "elapsed": 1955,
     "status": "ok",
     "timestamp": 1634137500499,
     "user": {
      "displayName": "Kukil Kashyap",
      "photoUrl": "https://lh3.googleusercontent.com/a/default-user=s64",
      "userId": "02345555180714266540"
     },
     "user_tz": -330
    },
    "id": "BHxSkYIXLO-d",
    "outputId": "4d91dab8-b6bf-41cf-c3bc-e04abaf7af51"
   },
   "outputs": [],
   "source": [
    "# Separate the color and alpha channels.\n",
    "logo_bgr   = logo[:, :, 0:3]\n",
    "logo_alpha = logo[:, :, 3]\n",
    "\n",
    "# Dispay the images.\n",
    "plt.figure(figsize = (10, 10))\n",
    "plt.imshow(img[:, :, ::-1]); plt.title('Background Image');\n",
    "\n",
    "plt.figure(figsize = (10, 5))\n",
    "plt.subplot(121); plt.imshow(logo_bgr[:, :, ::-1]);  plt.title('Color Logo');\n",
    "plt.subplot(122); plt.imshow(logo_alpha);            plt.title('Alpha Channel');"
   ]
  },
  {
   "cell_type": "markdown",
   "metadata": {
    "id": "mMxS2V1wLO-e"
   },
   "source": [
    "## 1.4 Determine the Region of Interest (ROI) in the Image\n",
    "The region of interest (ROI) is the area on which we are going to superimpose the logo. In this example, we are going to place the logo in the center of the image. The following figure illustrates the coordinates used in the code below.<br>\n",
    "![ROI_Coordinates](https://opencv.org/wp-content/uploads/2021/08/c0-m2-ROI-Coordinates.png)"
   ]
  },
  {
   "cell_type": "markdown",
   "metadata": {
    "id": "37AHFfG1LO-e"
   },
   "source": [
    "### <font style=\"color:rgb(50,120,230)\">Place the logo at the center of the image</font>"
   ]
  },
  {
   "cell_type": "code",
   "execution_count": null,
   "metadata": {
    "colab": {
     "base_uri": "https://localhost:8080/",
     "height": 311
    },
    "executionInfo": {
     "elapsed": 12,
     "status": "ok",
     "timestamp": 1634137500500,
     "user": {
      "displayName": "Kukil Kashyap",
      "photoUrl": "https://lh3.googleusercontent.com/a/default-user=s64",
      "userId": "02345555180714266540"
     },
     "user_tz": -330
    },
    "id": "OrWf6lmCLO-e",
    "outputId": "2999a854-0fa5-4484-c321-85b1336928f7"
   },
   "outputs": [],
   "source": [
    "# Cx and Cy are center of the image.\n",
    "cx = int(img_w/2)\n",
    "cy = int(img_h/2)\n",
    "\n",
    "# tlc : top left corner.\n",
    "tlc_x = int(cx - logo_w/2)\n",
    "tlc_y = int(cy - logo_h/2)\n",
    "\n",
    "# brc : bottom right corner.\n",
    "brc_x = int(cx + logo_w/2)\n",
    "brc_y = int(cy + logo_h/2)\n",
    "\n",
    "# Get region of interest from the original image.\n",
    "roi = img[tlc_y:brc_y, tlc_x:brc_x]\n",
    "\n",
    "# Display the ROI.\n",
    "plt.figure(figsize = (5, 5))\n",
    "plt.imshow(roi[:, :, ::-1]);"
   ]
  },
  {
   "cell_type": "markdown",
   "metadata": {
    "id": "rz1i6ZlwLO-f"
   },
   "source": [
    "## 1.5 Create ROI Masked Outputs\n",
    "\n",
    "### <font style=\"color:rgb(8,133,37)\">OpenCV Documentation</font>\n",
    "\n",
    "[**`bitwise_and()`**](https://docs.opencv.org/4.5.2/d2/de8/group__core__array.html#ga60b4d04b251ba5eb1392c34425497e14)\n",
    "[**`bitwsie_not()`**](https://docs.opencv.org/4.5.2/d2/de8/group__core__array.html#ga0002cf8b418479f4cb49a75442baee2f)\n",
    "[**`bitwise_or()`**](https://docs.opencv.org/4.5.2/d2/de8/group__core__array.html#gab85523db362a4e26ff0c703793a719b4)"
   ]
  },
  {
   "cell_type": "code",
   "execution_count": null,
   "metadata": {
    "colab": {
     "base_uri": "https://localhost:8080/",
     "height": 590
    },
    "executionInfo": {
     "elapsed": 2148,
     "status": "ok",
     "timestamp": 1634137502640,
     "user": {
      "displayName": "Kukil Kashyap",
      "photoUrl": "https://lh3.googleusercontent.com/a/default-user=s64",
      "userId": "02345555180714266540"
     },
     "user_tz": -330
    },
    "id": "QbA2LDdgLO-f",
    "outputId": "1d2d4d0c-8bd1-4290-b249-0a541d7cdb7a"
   },
   "outputs": [],
   "source": [
    "# Make the dimensions of the mask same as the input image.\n",
    "# Since the background image is a 3-channel image, we create a 3 channel image for the mask.\n",
    "logo_mask = cv2.merge([logo_alpha, logo_alpha, logo_alpha])\n",
    "\n",
    "logo_mask_inv = cv2.bitwise_not(logo_mask)\n",
    "\n",
    "# Use the mask to create the masked ROI region.\n",
    "masked_roi = cv2.bitwise_and(roi, logo_mask_inv)\n",
    "\n",
    "# Use the mask to create the masked logo region.\n",
    "masked_logo = cv2.bitwise_and(logo_bgr, logo_mask)\n",
    "\n",
    "# Display the intermediate results.\n",
    "plt.figure(figsize = [15, 10])\n",
    "\n",
    "plt.subplot(231); plt.imshow(roi[:, :, ::-1]);           plt.title(\"ROI\");\n",
    "plt.subplot(232); plt.imshow(logo_mask_inv[:, :, ::-1]); plt.title(\"Inverse Logo Mask\");\n",
    "plt.subplot(233); plt.imshow(masked_roi[:, :, ::-1]);    plt.title(\"Masked ROI\");\n",
    "\n",
    "plt.subplot(234); plt.imshow(logo_bgr[:, :, ::-1]);      plt.title(\"Color Logo\");\n",
    "plt.subplot(235); plt.imshow(logo_mask[:, :, ::-1]);     plt.title(\"Logo Mask\");\n",
    "plt.subplot(236); plt.imshow(masked_logo[:, :, ::-1]);   plt.title(\"Masked Logo\");"
   ]
  },
  {
   "cell_type": "code",
   "execution_count": null,
   "metadata": {
    "colab": {
     "base_uri": "https://localhost:8080/",
     "height": 293
    },
    "executionInfo": {
     "elapsed": 24,
     "status": "ok",
     "timestamp": 1634137502641,
     "user": {
      "displayName": "Kukil Kashyap",
      "photoUrl": "https://lh3.googleusercontent.com/a/default-user=s64",
      "userId": "02345555180714266540"
     },
     "user_tz": -330
    },
    "id": "WUIfYacDLO-f",
    "outputId": "e0d226c9-5cf2-4c6f-f04e-09341a5d9a7f"
   },
   "outputs": [],
   "source": [
    "# Combine the masked ROI with the masked logo to get the combined ROI image.\n",
    "roi_final = cv2.bitwise_or(masked_roi, masked_logo)\n",
    "\n",
    "# Display the intermediate results.\n",
    "plt.figure(figsize = [15, 10])\n",
    "\n",
    "plt.subplot(131); plt.imshow(masked_roi[:,:,::-1]);  plt.title(\"Masked ROI\");\n",
    "plt.subplot(132); plt.imshow(masked_logo[:,:,::-1]); plt.title(\"Masked Logo\");\n",
    "plt.subplot(133); plt.imshow(roi_final[:,:,::-1]);   plt.title(\"Final ROI\");"
   ]
  },
  {
   "cell_type": "markdown",
   "metadata": {
    "id": "Sqos2pBNLO-f"
   },
   "source": [
    "## 1.6 Add the ROI Patch to the Image\n"
   ]
  },
  {
   "cell_type": "markdown",
   "metadata": {
    "id": "wr90yS1RLO-g"
   },
   "source": [
    "### <font style=\"color:rgb(50,120,230)\">Create ROI and image copies to preserve those images</font>"
   ]
  },
  {
   "cell_type": "code",
   "execution_count": null,
   "metadata": {
    "executionInfo": {
     "elapsed": 21,
     "status": "ok",
     "timestamp": 1634137502642,
     "user": {
      "displayName": "Kukil Kashyap",
      "photoUrl": "https://lh3.googleusercontent.com/a/default-user=s64",
      "userId": "02345555180714266540"
     },
     "user_tz": -330
    },
    "id": "2lV1JNG1LO-g"
   },
   "outputs": [],
   "source": [
    "# Create a copy of the roi and image to keep the originals intact.\n",
    "roi_1 = roi.copy()\n",
    "img_1 = img.copy()"
   ]
  },
  {
   "cell_type": "markdown",
   "metadata": {
    "id": "fRA_Tj4nLO-g"
   },
   "source": [
    "### <font style=\"color:rgb(50,120,230)\">Insert the final ROI in the image</font>"
   ]
  },
  {
   "cell_type": "code",
   "execution_count": null,
   "metadata": {
    "colab": {
     "base_uri": "https://localhost:8080/",
     "height": 441
    },
    "executionInfo": {
     "elapsed": 20,
     "status": "ok",
     "timestamp": 1634137502642,
     "user": {
      "displayName": "Kukil Kashyap",
      "photoUrl": "https://lh3.googleusercontent.com/a/default-user=s64",
      "userId": "02345555180714266540"
     },
     "user_tz": -330
    },
    "id": "sfGJWvLQLO-h",
    "outputId": "7803405a-24ca-4073-8827-f1b5f6b9646f"
   },
   "outputs": [],
   "source": [
    "# Insert the ROI patch in the image.\n",
    "img_1[tlc_y:brc_y, tlc_x:brc_x] = roi_final\n",
    "\n",
    "# Display the image.\n",
    "plt.figure(figsize = (10, 10))\n",
    "plt.imshow(img_1[:, :, ::-1])\n",
    "\n",
    "# Save the final watermakred image.\n",
    "cv2.imwrite('watermarked_method_1.jpg', img_1)"
   ]
  },
  {
   "cell_type": "markdown",
   "metadata": {
    "id": "RAfUxAp4LO-h"
   },
   "source": [
    "# 2. Watermarking (adding a semi-transparent logo)\n",
    "\n",
    "Now that we know how to make a straight forward watermark, let's take a look at another method which provides a transparency effect.\n",
    "\n",
    "### <font style=\"color:rgb(50,120,230)\">Goal</font>\n",
    "![Water-marked-method2](https://opencv.org/wp-content/uploads/2021/08/c0-m2-watermarked-method-2.jpg)"
   ]
  },
  {
   "cell_type": "markdown",
   "metadata": {
    "id": "MCAyVHx1LO-h"
   },
   "source": [
    "### <font style=\"color:rgb(50,120,230)\">Workflow</font>\n",
    "\n",
    "**Note**: The first four steps were already completed in Section 1 above.\n",
    "\n",
    "1. Adjust the size of the logo if required.\n",
    "2. Separate the color and alpha channels from the logo.\n",
    "3. Determine the region of interest (ROI) in the image for logo placement.\n",
    "4. Use logical operations to create ROI and logo masks.\n",
    "\n",
    "\n",
    "<hr   style='border:none; height: 4px; background-color: #D3D3D3'/>\n",
    "\n",
    "Two additional steps are then taken for this alternate approach.\n",
    "\n",
    "5. Use the `addWeighted()` function to blend the logo with the image ROI\n",
    "6. Insert the watermark patch in the image\n"
   ]
  },
  {
   "cell_type": "markdown",
   "metadata": {
    "id": "Z3URCoYvLO-h"
   },
   "source": [
    "## 2.1 Superimpose the Logo with Image ROI\n",
    "\n",
    "<hr   style=\"border:none; height: 4px; background-color: #D3D3D3 \" />\n",
    "\n",
    "We are using `addWeighted()` function to put the watermarks. You can play with the values of beta to generate different results.\n",
    "### <font color=\"green\">Function Syntax </font>\n",
    "``` python\n",
    "dst = cv2.addWeighted(src1, alpha, src2, beta, gamma[, dst[, dtype]])\n",
    "```\n",
    "`dst`: Is the output image of the same size and depth as `src1` and `src2`.\n",
    "\n",
    "The function has **5 required arguments**:\n",
    "\n",
    "1. `src`: first input array.\n",
    "2. `alpha`: weight of the first array elements.\n",
    "3. `src2`:\tsecond input array.\n",
    "4. `beta`: weight of the second array elements.\n",
    "5. `gamma`: scalar added to each sum.\n",
    "\n",
    "The function has **1 optional argument**:\n",
    "1. `dtype` : optional depth of the output array; when both input arrays have the same depth, dtype can be set to -1, which will be equivalent to `src1.depth()`.\n",
    "\n",
    "### <font color=\"green\">OpenCV Documentation</font>\n",
    "\n",
    "[**`addWeighted()`**](https://docs.opencv.org/4.5.2/d2/de8/group__core__array.html#gafafb2513349db3bcff51f54ee5592a19)\n",
    "\n",
    "<hr   style=\"border:none; height: 4px; background-color: #D3D3D3 \" />"
   ]
  },
  {
   "cell_type": "code",
   "execution_count": null,
   "metadata": {
    "colab": {
     "base_uri": "https://localhost:8080/",
     "height": 311
    },
    "executionInfo": {
     "elapsed": 16,
     "status": "ok",
     "timestamp": 1634137502642,
     "user": {
      "displayName": "Kukil Kashyap",
      "photoUrl": "https://lh3.googleusercontent.com/a/default-user=s64",
      "userId": "02345555180714266540"
     },
     "user_tz": -330
    },
    "id": "DvPB-xcbLO-h",
    "outputId": "42e039cd-21f3-42c4-b205-008651e4eef4",
    "scrolled": true
   },
   "outputs": [],
   "source": [
    "# Make a copy of the ROI.\n",
    "roi_2 = roi.copy()\n",
    "\n",
    "# Blend ROI and the logo.\n",
    "watermarked = cv2.addWeighted(roi_2, 1, logo_bgr, 0.6, 0)\n",
    "\n",
    "# Display the watermarked ROI.\n",
    "plt.figure(figsize = (5, 5))\n",
    "plt.imshow(watermarked[:, :, ::-1]);"
   ]
  },
  {
   "cell_type": "markdown",
   "metadata": {
    "id": "Xwkl2Xe1LO-i"
   },
   "source": [
    "# 2.2 Replace Image ROI Patch with Watermarked Patch"
   ]
  },
  {
   "cell_type": "code",
   "execution_count": null,
   "metadata": {
    "colab": {
     "base_uri": "https://localhost:8080/",
     "height": 441
    },
    "executionInfo": {
     "elapsed": 2056,
     "status": "ok",
     "timestamp": 1634137504684,
     "user": {
      "displayName": "Kukil Kashyap",
      "photoUrl": "https://lh3.googleusercontent.com/a/default-user=s64",
      "userId": "02345555180714266540"
     },
     "user_tz": -330
    },
    "id": "VBkZMjV1LO-i",
    "outputId": "11dbc8f5-33db-49c3-eeed-b59b4cf1b22e",
    "scrolled": false
   },
   "outputs": [],
   "source": [
    "# Make a copy of the image.\n",
    "img_2 = img.copy()\n",
    "\n",
    "# Insert the watermarked ROI patch in the image.\n",
    "img_2[tlc_y:brc_y, tlc_x:brc_x] = watermarked\n",
    "\n",
    "# display\n",
    "plt.figure(figsize = (10,10))\n",
    "plt.imshow(img_2[:,:,::-1]);\n",
    "\n",
    "# Save the image to the file system.\n",
    "cv2.imwrite('watermarked_method_2.jpg',img_2)"
   ]
  },
  {
   "cell_type": "markdown",
   "metadata": {
    "id": "pFqNzah0LO-i"
   },
   "source": [
    "## Comparing the methods\n",
    "\n",
    "From the same source image and logo, we were able to create two different kinds of watermarks, which you can compare below.\n",
    "\n",
    "![watermarked_method_1](https://opencv.org/wp-content/uploads/2021/08/c0-m2-watermarked-method-1.jpg)\n",
    "![watermarked_method_2](https://opencv.org/wp-content/uploads/2021/08/c0-m2-watermarked-method-2.jpg)\n",
    "\n",
    "There are many different ways to come up with the same results, and likewise, many different ways you could tweak the output. Possible extensions could include creating a repeating pattern where the logo is tiled multiplied times across the image, as well as automatically scaling the region of interest to make up a certain proportion of the original image being watermarked."
   ]
  }
 ],
 "metadata": {
  "colab": {
   "collapsed_sections": [],
   "name": "02_05_Application_Watermark.ipynb",
   "provenance": []
  },
  "kernelspec": {
   "display_name": "opencv-env",
   "language": "python",
   "name": "opencv-env"
  },
  "language_info": {
   "codemirror_mode": {
    "name": "ipython",
    "version": 3
   },
   "file_extension": ".py",
   "mimetype": "text/x-python",
   "name": "python",
   "nbconvert_exporter": "python",
   "pygments_lexer": "ipython3",
   "version": "3.9.13"
  }
 },
 "nbformat": 4,
 "nbformat_minor": 1
}
