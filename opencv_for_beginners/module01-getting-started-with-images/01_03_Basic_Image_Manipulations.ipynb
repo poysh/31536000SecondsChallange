{
 "cells": [
  {
   "cell_type": "markdown",
   "metadata": {},
   "source": [
    "<h1 style=\"font-size:30px;\">Basic Image Manipulations</h1>\n",
    "\n",
    "In this notebook we will cover pixels operations which include editing individual pixels and cropping images. We will also cover image transformations including resizing and flipping images."
   ]
  },
  {
   "cell_type": "code",
   "execution_count": 1,
   "metadata": {
    "slideshow": {
     "slide_type": "-"
    }
   },
   "outputs": [],
   "source": [
    "import cv2\n",
    "import numpy as np\n",
    "import matplotlib.pyplot as plt\n",
    "import matplotlib\n",
    "%matplotlib inline\n",
    "from IPython.display import Image\n",
    "plt.rcParams['image.cmap'] = 'gray'\n",
    "\n",
    "if 'google.colab' in str(get_ipython()):\n",
    "    print(\"Downloading Code to Colab Environment\")\n",
    "    !wget https://www.dropbox.com/sh/8mu8erfnvqk3dzu/AABWmDJkjv-TvECMPRKlufNYa?dl=1 -O module-code.zip -q --show-progress\n",
    "    !unzip -qq module-code.zip\n",
    "else:\n",
    "    pass"
   ]
  },
  {
   "cell_type": "markdown",
   "metadata": {},
   "source": [
    "# 1. Pixel Operations"
   ]
  },
  {
   "cell_type": "code",
   "execution_count": 36,
   "metadata": {
    "slideshow": {
     "slide_type": "slide"
    }
   },
   "outputs": [
    {
     "name": "stdout",
     "output_type": "stream",
     "text": [
      "[[  0   0   0   0   0   0   0   0   0   0   0   0   0   0   0   0   0   0]\n",
      " [  0   0   0   0   0   0   0   0   0   0   0   0   0   0   0   0   0   0]\n",
      " [  0   0   0   0   0   0   0   0   0   0 158 183 141   0   0   0   0   0]\n",
      " [  0   0   0   0   0   0   0   0 198 255 255 255 255 179   0   0   0   0]\n",
      " [  0   0   0   0   0   0   0 124 218 198 126   0 255 255   0   0   0   0]\n",
      " [  0   0   0   0   0   0   0   0   0   0   0 163 255 198   0   0   0   0]\n",
      " [  0   0   0   0   0   0   0   0   0   0 171 255 214   0   0   0   0   0]\n",
      " [  0   0   0   0   0   0   0 140 196 255 255 213   0   0   0   0   0   0]\n",
      " [  0   0   0   0   0   0 140 255 255 255 255 201   0   0   0   0   0   0]\n",
      " [  0   0   0   0   0   0   0   0   0   0 255 255   0   0   0   0   0   0]\n",
      " [  0   0   0   0   0   0   0   0   0   0 219 255   0   0   0   0   0   0]\n",
      " [  0   0   0   0   0   0   0   0   0   0 255 255   0   0   0   0   0   0]\n",
      " [  0   0   0 178   0   0   0   0   0 174 255 145   0   0   0   0   0   0]\n",
      " [  0   0   0 255 255 160   0   0 187 255 204   0   0   0   0   0   0   0]\n",
      " [  0   0   0 124 255 255 255 255 255 185   0   0   0   0   0   0   0   0]\n",
      " [  0   0   0   0   0 138 180 170   0   0   0   0   0   0   0   0   0   0]\n",
      " [  0   0   0   0   0   0   0   0   0   0   0   0   0   0   0   0   0   0]\n",
      " [  0   0   0   0   0   0   0   0   0   0   0   0   0   0   0   0   0   0]]\n"
     ]
    },
    {
     "data": {
      "image/png": "[encoded data removed]",
      "text/plain": [
       "<Figure size 400x400 with 1 Axes>"
      ]
     },
     "metadata": {},
     "output_type": "display_data"
    },
    {
     "data": {
      "image/png": "[encoded data removed]",
      "text/plain": [
       "<Figure size 400x400 with 1 Axes>"
      ]
     },
     "metadata": {},
     "output_type": "display_data"
    }
   ],
   "source": [
    "# Read image as grayscale.\n",
    "mnist_3_img = cv2.imread('MNIST_3_18x18.png', cv2.IMREAD_GRAYSCALE)\n",
    "\n",
    "\n",
    "copy = np.copy(mnist_3_img)\n",
    "copy[np.where(copy>220)]=255\n",
    "copy[np.where(copy<120)]=0\n",
    "\n",
    "print(copy)\n",
    "            \n",
    "plt.figure(figsize = (4, 4))\n",
    "plt.title('Copy')\n",
    "plt.imshow(copy);\n",
    "\n",
    "# Display the image.\n",
    "plt.figure(figsize = (4, 4))\n",
    "plt.imshow(mnist_3_img);"
   ]
  },
  {
   "cell_type": "markdown",
   "metadata": {},
   "source": [
    "## 1.1 Accessing Individual Pixels\n",
    "To access pixels in a numPy array, you have to use matrix notation such as `matrix[r, c]`, where the `r` is the row number and `c` is the column number. Also note that the matrix is 0-indexed. For example, if you want to access pixel in the upper left corner of the image, you need to specify `matrix[0, 0]`. \n",
    "\n",
    "Let's take a look at accesing some of the pixels in the image above."
   ]
  },
  {
   "cell_type": "code",
   "execution_count": 22,
   "metadata": {},
   "outputs": [
    {
     "name": "stdout",
     "output_type": "stream",
     "text": [
      "251\n",
      "118\n",
      "88\n"
     ]
    }
   ],
   "source": [
    "print(mnist_3_img[3, 10])\n",
    "print(mnist_3_img[12, 2])\n",
    "print(mnist_3_img[10, 12])"
   ]
  },
  {
   "cell_type": "markdown",
   "metadata": {},
   "source": [
    "## 1.2 Modifying Image Pixels\n",
    "We can modify the intensity values of pixels in the same manner as described above."
   ]
  },
  {
   "cell_type": "code",
   "execution_count": 23,
   "metadata": {},
   "outputs": [
    {
     "name": "stdout",
     "output_type": "stream",
     "text": [
      "[[  0   0   0   0   0   0   0   0   1  12  33  39  30   1   0   0 150   0]\n",
      " [  0   0   0   0   0   0   0   6  23   0   0   0   0  19   1   0 150   0]\n",
      " [  0   0 100 125   0   0   9   0   0  35 158 183 141   0   0   4 150   0]\n",
      " [  0   0 150 175   0  10   0  44 198 248 251 255 255 179   0  20 150   0]\n",
      " [  0   0   0   0   0  24   0 124 218 198 126  74 243 235  50   0 150   0]\n",
      " [  0   0   0   0   0   0   1  29   0   0   0 163 255 198   0  26 150   0]\n",
      " [  0   0   0   0   0   0   5   0   0   0 171 255 214  86   0  20 150   0]\n",
      " [  0   0   0   0   0   5   0 140 196 236 255 213   0   0  22   0 150   0]\n",
      " [  0   0   0   0  25   0 140 255 245 223 255 201   0  41   0   1 150   0]\n",
      " [  0   0   0   0   5   0  56  99  68   0 228 231  31   0  13   0 150   0]\n",
      " [  0   0   6  23   9   5   0   0  21   0 219 248  88   0  20   0 150   0]\n",
      " [  0   7   0   0   0  35  14  33  34   0 234 223   0  17   8   0 150   0]\n",
      " [ 21   0 118 178   0   0   0   0   0 174 255 145   0  24   1   0 150   0]\n",
      " [ 14   0  63 242 229 160  67  96 187 255 204   0  16   1   0   0 150   0]\n",
      " [  0  21   0 124 234 255 252 251 248 185   0  13   8   0   0   0 150   0]\n",
      " [  0   0  17   0   0 138 180 170  65   0  18   8   0   0   0   0 150   0]\n",
      " [  0   0   0  21  13   0   0   0   0  29   4   0   0   0   0   0 150   0]\n",
      " [  0   0   0   0   5  30  38  36  15   0   0   0   0   0   0   0   0   0]]\n"
     ]
    },
    {
     "data": {
      "image/png": "[encoded data removed]",
      "text/plain": [
       "<Figure size 400x400 with 1 Axes>"
      ]
     },
     "metadata": {},
     "output_type": "display_data"
    }
   ],
   "source": [
    "# Make a copy of the original image.\n",
    "mnist_3_img_copy = mnist_3_img.copy()\n",
    "\n",
    "# Modify four pixels.\n",
    "mnist_3_img_copy[2, 2] = 100\n",
    "mnist_3_img_copy[2, 3] = 125\n",
    "mnist_3_img_copy[3, 2] = 150\n",
    "mnist_3_img_copy[3, 3] = 175\n",
    "\n",
    "# Use numPy array slicing to modify a group of pixels.\n",
    "mnist_3_img_copy[0:17,16] = 150\n",
    "\n",
    "# Print the image data.\n",
    "print(mnist_3_img_copy)\n",
    "\n",
    "# Display the modified image.\n",
    "plt.figure(figsize = (4, 4))\n",
    "plt.imshow(mnist_3_img_copy);"
   ]
  },
  {
   "cell_type": "markdown",
   "metadata": {},
   "source": [
    "Notice that we have modified the pixles in the image in the upper left corner and also at the far right of the image."
   ]
  },
  {
   "cell_type": "markdown",
   "metadata": {},
   "source": [
    "# 2. Cropping Images\n",
    "\n",
    "Cropping an image does not require a special function in OpenCV. It is achieved by selecting a specific (pixel) region of the image."
   ]
  },
  {
   "cell_type": "code",
   "execution_count": null,
   "metadata": {
    "slideshow": {
     "slide_type": "slide"
    }
   },
   "outputs": [],
   "source": [
    "img_eagle = cv2.imread('Eagle_in_Flight.jpg', cv2.IMREAD_COLOR)\n",
    "\n",
    "plt.figure(figsize = (8, 8))\n",
    "plt.imshow(img_eagle[:, :, ::-1]);"
   ]
  },
  {
   "cell_type": "markdown",
   "metadata": {},
   "source": [
    "### <font style=\"color:rgb(50,120,230)\">Crop out the middle region of the image</font>"
   ]
  },
  {
   "cell_type": "code",
   "execution_count": null,
   "metadata": {
    "scrolled": true
   },
   "outputs": [],
   "source": [
    "cropped_region = img_eagle[20:420, 150:600]\n",
    "plt.imshow(cropped_region[:, :, ::-1]);"
   ]
  },
  {
   "cell_type": "markdown",
   "metadata": {},
   "source": [
    "# 3. Resizing Images\n",
    "\n",
    "<hr style=\"border:none; height: 4px; background-color:#D3D3D3\" />\n",
    "\n",
    "The function **`resize()`** resizes the image `src` down to or up to the specified size. The size and type are derived from the `src`, `dsize`, `fx`, and `fy`.\n",
    "\n",
    "### <font color=\"green\">Function Syntax </font>\n",
    "``` python\n",
    "dst = cv2.resize(src, dsize[, dst[, fx[, fy[, interpolation]]]])\n",
    "```\n",
    "\n",
    "`dst`: output image; it has the size `dsize` (when it is non-zero) or the size computed from `src.size()`, `fx`, and `fy`; the type of `dst` is the same as of `src`.\n",
    "\n",
    "The function has **2 required arguments**:\n",
    "    \n",
    "1. `src`:\tinput image\n",
    "2. `dsize`: output image size\n",
    "\n",
    "Optional arguments that are often used include:\n",
    "\n",
    "1. `fx`: Scale factor along the horizontal axis\n",
    "2. `fy`: Scale factor along the vertical axis\n",
    "\n",
    "The output image has the size `dsize` (when it is non-zero) or the size computed from `src.size()`, `fx`, and `fy`; the type of `dst` is the same as of `src`. If `fx` and `fy` are specified then `dsize` should be set to `None` since is it a required argument.\n",
    "\n",
    "### <font color=\"green\">OpenCV Documentation</font>\n",
    "\n",
    "[**`resize()`**](https://docs.opencv.org/4.5.2/da/d54/group__imgproc__transform.html#ga47a974309e9102f5f08231edc7e7529d)\n",
    "\n",
    "<hr style=\"border:none; height: 4px; background-color:#D3D3D3\" />"
   ]
  },
  {
   "cell_type": "markdown",
   "metadata": {},
   "source": [
    "## 3.1 Method 1: Specifying Scaling Factor using fx and fy\n"
   ]
  },
  {
   "cell_type": "code",
   "execution_count": null,
   "metadata": {},
   "outputs": [],
   "source": [
    "# Resize the image.\n",
    "resized_cropped_region_2x = cv2.resize(cropped_region, None, fx = 2, fy = 2)\n",
    "\n",
    "# Display the resized image.\n",
    "plt.imshow(resized_cropped_region_2x[:, :, ::-1]);"
   ]
  },
  {
   "cell_type": "markdown",
   "metadata": {},
   "source": [
    "### <font style=\"color:rgb(50,120,230)\">Display resized (2x) cropped region</font>"
   ]
  },
  {
   "cell_type": "code",
   "execution_count": null,
   "metadata": {},
   "outputs": [],
   "source": [
    "# Save resized image to the file system.\n",
    "cv2.imwrite('resized_cropped_region_2x.png', resized_cropped_region_2x)\n",
    "\n",
    "# Display the cropped and resized image.\n",
    "Image(filename = 'resized_cropped_region_2x.png') "
   ]
  },
  {
   "cell_type": "markdown",
   "metadata": {},
   "source": [
    "## 3.2 Method 2: Specifying Exact Size of the Output Image"
   ]
  },
  {
   "cell_type": "code",
   "execution_count": null,
   "metadata": {},
   "outputs": [],
   "source": [
    "# Set the desired size of the image.\n",
    "desired_width  = 400\n",
    "desired_height = 200\n",
    "dim = (desired_width, desired_height)\n",
    "\n",
    "# Resize the image.\n",
    "resized_cropped_region = cv2.resize(cropped_region, dsize = dim, interpolation = cv2.INTER_AREA)\n",
    "plt.figure(figsize = (6, 6))\n",
    "plt.imshow(resized_cropped_region[:, :, ::-1]);"
   ]
  },
  {
   "cell_type": "markdown",
   "metadata": {},
   "source": [
    "## 3.3 Method 3: Resize Dimension while Maintaining Aspect Ratio"
   ]
  },
  {
   "cell_type": "code",
   "execution_count": null,
   "metadata": {},
   "outputs": [],
   "source": [
    "# Method 2: Using 'dsize'.\n",
    "desired_width = 200\n",
    "aspect_ratio = cropped_region.shape[0] / cropped_region.shape[1]\n",
    "desired_height = int(desired_width * aspect_ratio)\n",
    "dim = (desired_width, desired_height)\n",
    "\n",
    "# Resize the image.\n",
    "resized_cropped_region = cv2.resize(cropped_region, dsize = dim, interpolation = cv2.INTER_AREA)\n",
    "plt.figure(figsize = (6, 6))\n",
    "plt.imshow(resized_cropped_region[:, :, ::-1]);"
   ]
  },
  {
   "cell_type": "markdown",
   "metadata": {
    "slideshow": {
     "slide_type": "slide"
    }
   },
   "source": [
    "\n",
    "# 4. Flipping Images\n",
    "\n",
    "<hr style=\"border:none; height: 4px; background-color:#D3D3D3\" />\n",
    "\n",
    "The function **`flip()`** flips the array in one of three different ways (row and column indices are 0-based):\n",
    "\n",
    "### <font color=\"green\">Function Syntax </font>\n",
    "``` python\n",
    "dst = cv2.flip(src, flipCode[, dst])\n",
    "\n",
    "```\n",
    "\n",
    "`dst`: output array of the same size and type as src.\n",
    "\n",
    "The function has **2 required arguments**:\n",
    "    \n",
    "1. `src`:\tinput image\n",
    "2. `flipCode`: a flag to specify how to flip the array; 0 means flipping around the x-axis and positive value (for example, 1) means flipping around y-axis. Negative value (for example, -1) means flipping around both axes.\n",
    "\n",
    "\n",
    "### <font color=\"green\">OpenCV Documentation</font>\n",
    "\n",
    "[**`flip()`**](https://docs.opencv.org/4.5.2/d2/de8/group__core__array.html#gaca7be533e3dac7feb70fc60635adf441)\n",
    "\n",
    "<hr style=\"border:none; height: 4px; background-color:#D3D3D3\" />"
   ]
  },
  {
   "cell_type": "code",
   "execution_count": null,
   "metadata": {},
   "outputs": [],
   "source": [
    "# Flip the image three ways.\n",
    "img_eagle_flipped_horz = cv2.flip(img_eagle, 1)\n",
    "img_eagle_flipped_vert = cv2.flip(img_eagle, 0)\n",
    "img_eagle_flipped_both = cv2.flip(img_eagle, -1)\n",
    "\n",
    "# Dispay the images.\n",
    "plt.figure(figsize = [18, 5])\n",
    "plt.subplot(141); plt.imshow(img_eagle_flipped_horz[:, :, ::-1]) \n",
    "plt.title('Horizontal Flip')\n",
    "plt.subplot(142); plt.imshow(img_eagle_flipped_vert[:, :, ::-1])\n",
    "plt.title('Vertical Flip')\n",
    "plt.subplot(143); plt.imshow(img_eagle_flipped_both[:, :, ::-1]) \n",
    "plt.title('Both Flipped')\n",
    "plt.subplot(144); plt.imshow(img_eagle[:, :, ::-1])            \n",
    "plt.title('Original');"
   ]
  },
  {
   "cell_type": "markdown",
   "metadata": {},
   "source": [
    "# 5. Exercise\n",
    "Please complete the code in the cells below."
   ]
  },
  {
   "cell_type": "code",
   "execution_count": null,
   "metadata": {},
   "outputs": [],
   "source": [
    "img = cv2.imread('New_Zealand_Boat.jpg', cv2.IMREAD_COLOR)\n",
    "plt.figure(figsize=[3,3])\n",
    "plt.imshow(img[:, :, ::-1]);"
   ]
  },
  {
   "cell_type": "code",
   "execution_count": null,
   "metadata": {},
   "outputs": [],
   "source": [
    "# Crop the image to extract the region around the sale boat.\n",
    "# YOUR CODE HERE\n",
    "\n",
    "# Resize the image up by a factor of 2x.\n",
    "# YOUR CODE HERE \n",
    "\n",
    "# Flip the cropped/resized image horizontally.\n",
    "# YOUR CODE HERE\n",
    "\n",
    "# Display the final result.\n",
    "# YOUR CODE HERE\n",
    "# plt.figure(figsize = [5, 5])"
   ]
  },
  {
   "cell_type": "markdown",
   "metadata": {},
   "source": [
    "Your results should look similar to this.\n",
    "\n",
    "![c0-m1-Canoe-Exercise-01-03.png](https://opencv.org/wp-content/uploads/2021/08/c0-m1-Canoe-Exercise-01-03.png)"
   ]
  }
 ],
 "metadata": {
  "interpreter": {
   "hash": "1e654b3bc3aace0335b326231d51e90ebd214a7f2d0629a648660f7deb4b3382"
  },
  "kernelspec": {
   "display_name": "opencv-env",
   "language": "python",
   "name": "opencv-env"
  },
  "language_info": {
   "codemirror_mode": {
    "name": "ipython",
    "version": 3
   },
   "file_extension": ".py",
   "mimetype": "text/x-python",
   "name": "python",
   "nbconvert_exporter": "python",
   "pygments_lexer": "ipython3",
   "version": "3.9.13"
  }
 },
 "nbformat": 4,
 "nbformat_minor": 2
}
